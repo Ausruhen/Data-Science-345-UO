{
 "cells": [
  {
   "cell_type": "markdown",
   "id": "59742dcb",
   "metadata": {},
   "source": [
    "# Homework 4: Statistics!\n",
    "\n",
    "*Instructions:*\n",
    "Please answer the following questions and submit your work\n",
    "by editing this jupyter notebook and submitting it on Canvas.\n",
    "Questions may involve math, programming, or neither,\n",
    "but you should make sure to *explain your work*:\n",
    "i.e., you should usually have a cell with at least a few sentences\n",
    "explaining what you are doing.\n",
    "\n",
    "Also, please be sure to always specify units of any quantities that have units,\n",
    "and label axes of plots (again, with units when appropriate)."
   ]
  },
  {
   "cell_type": "code",
   "execution_count": 4,
   "id": "03fe74bf",
   "metadata": {},
   "outputs": [],
   "source": [
    "import numpy as np\n",
    "import pandas as pd\n",
    "import matplotlib.pyplot as plt\n",
    "import scipy as sci\n",
    "import math\n",
    "rng = np.random.default_rng()"
   ]
  },
  {
   "cell_type": "code",
   "execution_count": 5,
   "id": "55d1d91a-4715-4587-89a7-b5ad00d07b2d",
   "metadata": {},
   "outputs": [
    {
     "data": {
      "text/html": [
       "<div>\n",
       "<style scoped>\n",
       "    .dataframe tbody tr th:only-of-type {\n",
       "        vertical-align: middle;\n",
       "    }\n",
       "\n",
       "    .dataframe tbody tr th {\n",
       "        vertical-align: top;\n",
       "    }\n",
       "\n",
       "    .dataframe thead th {\n",
       "        text-align: right;\n",
       "    }\n",
       "</style>\n",
       "<table border=\"1\" class=\"dataframe\">\n",
       "  <thead>\n",
       "    <tr style=\"text-align: right;\">\n",
       "      <th></th>\n",
       "      <th>Binomial</th>\n",
       "      <th>BodyMass</th>\n",
       "      <th>BodyLen</th>\n",
       "    </tr>\n",
       "  </thead>\n",
       "  <tbody>\n",
       "    <tr>\n",
       "      <th>0</th>\n",
       "      <td>Balaenoptera musculus</td>\n",
       "      <td>154321</td>\n",
       "      <td>30.48</td>\n",
       "    </tr>\n",
       "    <tr>\n",
       "      <th>1</th>\n",
       "      <td>Balaenoptera physalus</td>\n",
       "      <td>47506</td>\n",
       "      <td>20.64</td>\n",
       "    </tr>\n",
       "    <tr>\n",
       "      <th>2</th>\n",
       "      <td>Delphinapterus leucas</td>\n",
       "      <td>1382</td>\n",
       "      <td>4.25</td>\n",
       "    </tr>\n",
       "    <tr>\n",
       "      <th>3</th>\n",
       "      <td>Delphinus delphis</td>\n",
       "      <td>79</td>\n",
       "      <td>2.44</td>\n",
       "    </tr>\n",
       "    <tr>\n",
       "      <th>4</th>\n",
       "      <td>Balaena mysticetus</td>\n",
       "      <td>79691</td>\n",
       "      <td>12.19</td>\n",
       "    </tr>\n",
       "    <tr>\n",
       "      <th>5</th>\n",
       "      <td>Balaenoptera acutorostrata</td>\n",
       "      <td>5587</td>\n",
       "      <td>5.53</td>\n",
       "    </tr>\n",
       "    <tr>\n",
       "      <th>6</th>\n",
       "      <td>Balaenoptera borealis</td>\n",
       "      <td>22106</td>\n",
       "      <td>18.38</td>\n",
       "    </tr>\n",
       "    <tr>\n",
       "      <th>7</th>\n",
       "      <td>Balaenoptera edeni</td>\n",
       "      <td>20000</td>\n",
       "      <td>13.85</td>\n",
       "    </tr>\n",
       "    <tr>\n",
       "      <th>8</th>\n",
       "      <td>Eschrichtius robustus</td>\n",
       "      <td>27324</td>\n",
       "      <td>11.83</td>\n",
       "    </tr>\n",
       "    <tr>\n",
       "      <th>9</th>\n",
       "      <td>Eubalaena australis</td>\n",
       "      <td>23000</td>\n",
       "      <td>14.15</td>\n",
       "    </tr>\n",
       "    <tr>\n",
       "      <th>10</th>\n",
       "      <td>Eubalaena glacialis</td>\n",
       "      <td>23000</td>\n",
       "      <td>13.91</td>\n",
       "    </tr>\n",
       "    <tr>\n",
       "      <th>11</th>\n",
       "      <td>Globicephala macrorhynchus</td>\n",
       "      <td>726</td>\n",
       "      <td>6.10</td>\n",
       "    </tr>\n",
       "    <tr>\n",
       "      <th>12</th>\n",
       "      <td>Globicephala melas</td>\n",
       "      <td>800</td>\n",
       "      <td>5.69</td>\n",
       "    </tr>\n",
       "    <tr>\n",
       "      <th>13</th>\n",
       "      <td>Hyperoodon ampullatus</td>\n",
       "      <td>3393</td>\n",
       "      <td>8.78</td>\n",
       "    </tr>\n",
       "    <tr>\n",
       "      <th>14</th>\n",
       "      <td>Hyperoodon planifrons</td>\n",
       "      <td>3000</td>\n",
       "      <td>6.70</td>\n",
       "    </tr>\n",
       "    <tr>\n",
       "      <th>15</th>\n",
       "      <td>Inia geoffrensis</td>\n",
       "      <td>121</td>\n",
       "      <td>2.11</td>\n",
       "    </tr>\n",
       "    <tr>\n",
       "      <th>16</th>\n",
       "      <td>Kogia sima</td>\n",
       "      <td>183</td>\n",
       "      <td>2.16</td>\n",
       "    </tr>\n",
       "    <tr>\n",
       "      <th>17</th>\n",
       "      <td>Lagenorhynchus acutus</td>\n",
       "      <td>187</td>\n",
       "      <td>2.29</td>\n",
       "    </tr>\n",
       "    <tr>\n",
       "      <th>18</th>\n",
       "      <td>Lagenorhynchus albirostris</td>\n",
       "      <td>187</td>\n",
       "      <td>3.05</td>\n",
       "    </tr>\n",
       "    <tr>\n",
       "      <th>19</th>\n",
       "      <td>Lagenorhynchus obliquidens</td>\n",
       "      <td>110</td>\n",
       "      <td>2.21</td>\n",
       "    </tr>\n",
       "    <tr>\n",
       "      <th>20</th>\n",
       "      <td>Megaptera novaeangliae</td>\n",
       "      <td>30000</td>\n",
       "      <td>12.86</td>\n",
       "    </tr>\n",
       "    <tr>\n",
       "      <th>21</th>\n",
       "      <td>Monodon monoceros</td>\n",
       "      <td>938</td>\n",
       "      <td>5.09</td>\n",
       "    </tr>\n",
       "    <tr>\n",
       "      <th>22</th>\n",
       "      <td>Lipotes vexillifer</td>\n",
       "      <td>112</td>\n",
       "      <td>1.70</td>\n",
       "    </tr>\n",
       "    <tr>\n",
       "      <th>23</th>\n",
       "      <td>Mesoplodon bidens</td>\n",
       "      <td>3400</td>\n",
       "      <td>5.03</td>\n",
       "    </tr>\n",
       "    <tr>\n",
       "      <th>24</th>\n",
       "      <td>Mesoplodon bowdoini</td>\n",
       "      <td>2600</td>\n",
       "      <td>4.26</td>\n",
       "    </tr>\n",
       "    <tr>\n",
       "      <th>25</th>\n",
       "      <td>Mesoplodon carlhubbsi</td>\n",
       "      <td>3400</td>\n",
       "      <td>5.40</td>\n",
       "    </tr>\n",
       "    <tr>\n",
       "      <th>26</th>\n",
       "      <td>Mesoplodon densirostris</td>\n",
       "      <td>2300</td>\n",
       "      <td>4.59</td>\n",
       "    </tr>\n",
       "    <tr>\n",
       "      <th>27</th>\n",
       "      <td>Mesoplodon europaeus</td>\n",
       "      <td>5600</td>\n",
       "      <td>6.71</td>\n",
       "    </tr>\n",
       "    <tr>\n",
       "      <th>28</th>\n",
       "      <td>Mesoplodon ginkgodens</td>\n",
       "      <td>1500</td>\n",
       "      <td>4.88</td>\n",
       "    </tr>\n",
       "    <tr>\n",
       "      <th>29</th>\n",
       "      <td>Mesoplodon mirus</td>\n",
       "      <td>2100</td>\n",
       "      <td>5.18</td>\n",
       "    </tr>\n",
       "    <tr>\n",
       "      <th>30</th>\n",
       "      <td>Mesoplodon stejnegeri</td>\n",
       "      <td>4800</td>\n",
       "      <td>6.09</td>\n",
       "    </tr>\n",
       "    <tr>\n",
       "      <th>31</th>\n",
       "      <td>Orcaella brevirostris</td>\n",
       "      <td>190</td>\n",
       "      <td>2.50</td>\n",
       "    </tr>\n",
       "    <tr>\n",
       "      <th>32</th>\n",
       "      <td>Orcinus orca</td>\n",
       "      <td>5629</td>\n",
       "      <td>8.65</td>\n",
       "    </tr>\n",
       "    <tr>\n",
       "      <th>33</th>\n",
       "      <td>Phocoena phocoena</td>\n",
       "      <td>53</td>\n",
       "      <td>1.53</td>\n",
       "    </tr>\n",
       "    <tr>\n",
       "      <th>34</th>\n",
       "      <td>Phocoena sinus</td>\n",
       "      <td>43</td>\n",
       "      <td>1.52</td>\n",
       "    </tr>\n",
       "    <tr>\n",
       "      <th>35</th>\n",
       "      <td>Phocoenoides dalli</td>\n",
       "      <td>106</td>\n",
       "      <td>1.97</td>\n",
       "    </tr>\n",
       "    <tr>\n",
       "      <th>36</th>\n",
       "      <td>Physeter catodon</td>\n",
       "      <td>14541</td>\n",
       "      <td>12.18</td>\n",
       "    </tr>\n",
       "    <tr>\n",
       "      <th>37</th>\n",
       "      <td>Stenella attenuata</td>\n",
       "      <td>66</td>\n",
       "      <td>2.13</td>\n",
       "    </tr>\n",
       "    <tr>\n",
       "      <th>38</th>\n",
       "      <td>Stenella coeruleoalba</td>\n",
       "      <td>142</td>\n",
       "      <td>2.30</td>\n",
       "    </tr>\n",
       "    <tr>\n",
       "      <th>39</th>\n",
       "      <td>Stenella frontalis</td>\n",
       "      <td>110</td>\n",
       "      <td>2.13</td>\n",
       "    </tr>\n",
       "    <tr>\n",
       "      <th>40</th>\n",
       "      <td>Stenella longirostris</td>\n",
       "      <td>50</td>\n",
       "      <td>2.13</td>\n",
       "    </tr>\n",
       "    <tr>\n",
       "      <th>41</th>\n",
       "      <td>Steno bredanensis</td>\n",
       "      <td>130</td>\n",
       "      <td>2.44</td>\n",
       "    </tr>\n",
       "    <tr>\n",
       "      <th>42</th>\n",
       "      <td>Tursiops truncatus</td>\n",
       "      <td>281</td>\n",
       "      <td>3.26</td>\n",
       "    </tr>\n",
       "  </tbody>\n",
       "</table>\n",
       "</div>"
      ],
      "text/plain": [
       "                      Binomial  BodyMass  BodyLen\n",
       "0        Balaenoptera musculus    154321    30.48\n",
       "1        Balaenoptera physalus     47506    20.64\n",
       "2        Delphinapterus leucas      1382     4.25\n",
       "3            Delphinus delphis        79     2.44\n",
       "4           Balaena mysticetus     79691    12.19\n",
       "5   Balaenoptera acutorostrata      5587     5.53\n",
       "6        Balaenoptera borealis     22106    18.38\n",
       "7           Balaenoptera edeni     20000    13.85\n",
       "8        Eschrichtius robustus     27324    11.83\n",
       "9          Eubalaena australis     23000    14.15\n",
       "10         Eubalaena glacialis     23000    13.91\n",
       "11  Globicephala macrorhynchus       726     6.10\n",
       "12          Globicephala melas       800     5.69\n",
       "13       Hyperoodon ampullatus      3393     8.78\n",
       "14       Hyperoodon planifrons      3000     6.70\n",
       "15            Inia geoffrensis       121     2.11\n",
       "16                  Kogia sima       183     2.16\n",
       "17       Lagenorhynchus acutus       187     2.29\n",
       "18  Lagenorhynchus albirostris       187     3.05\n",
       "19  Lagenorhynchus obliquidens       110     2.21\n",
       "20      Megaptera novaeangliae     30000    12.86\n",
       "21           Monodon monoceros       938     5.09\n",
       "22          Lipotes vexillifer       112     1.70\n",
       "23           Mesoplodon bidens      3400     5.03\n",
       "24         Mesoplodon bowdoini      2600     4.26\n",
       "25       Mesoplodon carlhubbsi      3400     5.40\n",
       "26     Mesoplodon densirostris      2300     4.59\n",
       "27        Mesoplodon europaeus      5600     6.71\n",
       "28       Mesoplodon ginkgodens      1500     4.88\n",
       "29            Mesoplodon mirus      2100     5.18\n",
       "30       Mesoplodon stejnegeri      4800     6.09\n",
       "31       Orcaella brevirostris       190     2.50\n",
       "32                Orcinus orca      5629     8.65\n",
       "33           Phocoena phocoena        53     1.53\n",
       "34              Phocoena sinus        43     1.52\n",
       "35          Phocoenoides dalli       106     1.97\n",
       "36            Physeter catodon     14541    12.18\n",
       "37          Stenella attenuata        66     2.13\n",
       "38       Stenella coeruleoalba       142     2.30\n",
       "39          Stenella frontalis       110     2.13\n",
       "40       Stenella longirostris        50     2.13\n",
       "41           Steno bredanensis       130     2.44\n",
       "42          Tursiops truncatus       281     3.26"
      ]
     },
     "execution_count": 5,
     "metadata": {},
     "output_type": "execute_result"
    }
   ],
   "source": [
    "pd.read_csv(\"whales.csv\")"
   ]
  },
  {
   "cell_type": "markdown",
   "id": "d90cefcb",
   "metadata": {},
   "source": [
    "# 1. Mosquito bites\n",
    "\n",
    "My kid's class all went camping,\n",
    "and came home with mosquito bites.\n",
    "Thanks to a post-trip poll,\n",
    "we know how many mosquito bites\n",
    "each of the 27 kids had.\n",
    "Here are the numbers:"
   ]
  },
  {
   "cell_type": "code",
   "execution_count": 2,
   "id": "1543a02e-d6b7-4566-a374-4bfa9db6b060",
   "metadata": {},
   "outputs": [],
   "source": [
    "coins = rng.choice(['h','t'], size =20)\n"
   ]
  },
  {
   "cell_type": "code",
   "execution_count": 3,
   "id": "4e2fe221",
   "metadata": {},
   "outputs": [],
   "source": [
    "bites = np.array([4, 5, 4, 2, 4, 8, 4, 6, 7, 5, 4, 0, 5, 7, 5, 3, 2, 0, 3, 4, 5, 3, 6, 1, 2, 3, 5])"
   ]
  },
  {
   "cell_type": "markdown",
   "id": "1e12b1a7",
   "metadata": {},
   "source": [
    "Use maximum likelihood to fit a Poisson distribution to these data.\n",
    "To do this, you should\n",
    "\n",
    "*(a)* make a plot of the Poisson likelihood as a function of $\\lambda$, the mean of the Poisson, and\n",
    "\n",
    "*(b)* use an optimization function (like `scipy.optimize.minimize()`)\n",
    "to find the value of $\\lambda$ that maximizes the log-likelihood.\n",
    "    *(note: the `minimize` function works better if you use the log likelihood instead of the likelihood!)*\n",
    "\n",
    "*(c)* check your answer is sensible by comparing the distribution of the data to that expected under\n",
    "    the model you've fit.\n",
    "\n",
    "*(d)* Under this model, what proportion of kids do we expect to have zero mosquito bites?\n",
    "    Answer this question with math, and check it with simulation."
   ]
  },
  {
   "cell_type": "markdown",
   "id": "3526e2ba-26ab-496b-addf-f4133bdcc094",
   "metadata": {},
   "source": [
    "**Response to Part A**\n",
    "So what I did to make a plot of the Poisosn likelihood as a function of lambda is to graph the likelihoods as a function of lambda. I made a function called poisson_pmf_bites that takes a potential lambda value, and returns the probability mass function of that lambda. Now finally we need to make it actually make sense by normalizing our data. Our goal should be a graph that returns the chance of that particular lambda being the value, which we can find by dividing our probabiltiy mass results by the area under our curve (calculated with np.trapz (something that is basically and integration function)).  This way we if plot the normalized likelihood of the lambda values with the lambda values, we will get this plot that we want. \n",
    "\n",
    "**Code to part A**"
   ]
  },
  {
   "cell_type": "code",
   "execution_count": 4,
   "id": "0fcafc38-dc46-4b79-851c-261812df36d1",
   "metadata": {},
   "outputs": [
    {
     "data": {
      "text/plain": [
       "Text(0.5, 1.0, 'Log Likelihood vs Lambda Values')"
      ]
     },
     "execution_count": 4,
     "metadata": {},
     "output_type": "execute_result"
    },
    {
     "data": {
      "image/png": "[encoded data removed]",
      "text/plain": [
       "<Figure size 640x480 with 1 Axes>"
      ]
     },
     "metadata": {},
     "output_type": "display_data"
    }
   ],
   "source": [
    "from scipy.stats import poisson\n",
    "def poisson_pmf_bites(potential_lambda):\n",
    "    logpmfs = poisson.pmf(bites, potential_lambda)\n",
    "    return np.sum(logpmfs)\n",
    "\n",
    "lambda_vals = np.linspace(0.1,10,100)\n",
    "likelihoods = np.array([poisson_pmf_bites(val) for val in lambda_vals])\n",
    "\n",
    "area = np.trapz(likelihoods,lambda_vals)\n",
    "normalzied_like = likelihoods/area\n",
    "\n",
    "plt.plot(lambda_vals, normalzied_like)\n",
    "plt.xlabel(\"lambdas\")\n",
    "plt.ylabel(\"Log Likelihood\")\n",
    "plt.title(\"Log Likelihood vs Lambda Values\")"
   ]
  },
  {
   "cell_type": "markdown",
   "id": "28115c91-a22c-46ec-ab03-816888410b33",
   "metadata": {},
   "source": [
    "**Code for Part B**"
   ]
  },
  {
   "cell_type": "code",
   "execution_count": 8,
   "id": "82103241-fc50-4cdf-bdff-a64a77275d8f",
   "metadata": {},
   "outputs": [
    {
     "data": {
      "text/plain": [
       "3.962962962962963"
      ]
     },
     "execution_count": 8,
     "metadata": {},
     "output_type": "execute_result"
    }
   ],
   "source": [
    "def log_poisson(potential_lambda):\n",
    "    logpmfs = poisson.logpmf(bites, potential_lambda)\n",
    "    return np.sum(logpmfs)\n",
    "\n",
    "from scipy.optimize import minimize\n",
    "mean_bites = np.mean(bites)\n",
    "initial_guess = mean_bites\n",
    "max_pois_like = minimize(lambda x: -log_poisson(x), initial_guess)\n",
    "max_lambda = max_pois_like['x'][0] #minimize function returns a dictionary where 'x' represents the lambda value that is the maximized likelihood\n",
    "max_lambda"
   ]
  },
  {
   "cell_type": "markdown",
   "id": "9d6390b2-8336-4c71-a618-8fe67b70bf0c",
   "metadata": {},
   "source": [
    "**Explanation for Part C**\n",
    "\n",
    "Were going to plot both our simulated data and the given data (seen below). I would say that the poisson distribution matches it shockingly well. Now granted the simulation was only with 100 draws, but the observed data is also small. I would say it's reasonable to use the poisson distribution, and the our lambda value of 3.962 seems reasonable. "
   ]
  },
  {
   "cell_type": "markdown",
   "id": "48e22b1e-e3a1-414b-b268-cbd9522a49ee",
   "metadata": {},
   "source": [
    "**Code For Part C**"
   ]
  },
  {
   "cell_type": "code",
   "execution_count": 9,
   "id": "54d92aae-327e-4834-9317-33dc87880203",
   "metadata": {},
   "outputs": [
    {
     "data": {
      "text/plain": [
       "Text(0.5, 1.0, 'observed_data')"
      ]
     },
     "execution_count": 9,
     "metadata": {},
     "output_type": "execute_result"
    },
    {
     "data": {
      "image/png": "[encoded data removed]",
      "text/plain": [
       "<Figure size 640x480 with 2 Axes>"
      ]
     },
     "metadata": {},
     "output_type": "display_data"
    }
   ],
   "source": [
    "plt.subplot(1,2,1)\n",
    "maxL_dis = rng.poisson(max_lambda, size = 100)\n",
    "\n",
    "plt.hist(maxL_dis,alpha =.6)\n",
    "plt.title(\"Maximum Likelihood Distribution\")\n",
    "\n",
    "plt.subplot(1,2,2)\n",
    "plt.hist(bites)\n",
    "plt.title(\"observed_data\")"
   ]
  },
  {
   "cell_type": "markdown",
   "id": "87669e20-6c8b-4942-8cb9-cebdb1a2684e",
   "metadata": {},
   "source": [
    "**Explanation for Part D**\n",
    "For part D we want to find the proportion of kids that would have 0 bites in our poisson distribution. We can do this simply by simulation by drawing from our maximum likelihood poisson distribution, counting the amount of 0's and then dividing by whatever our size is. When doing it through this method we should pick a very large number of n. (See simulation code below). After simulating with 1 million draws a couple times, I would expect about 1.9% of kids to have no mosquito bites. \n",
    "\n",
    "Doing this with math we're going to use the probabiltiy mass function for lambda and evaluate it at k = 0. Said function is seen here: $$\\begin{aligned}\n",
    "    \\P\\{ X = k \\}\n",
    "    &\\approx\n",
    "    \\frac{1}{k!} \\lambda^k e^{-\\lambda} ,\n",
    "\\end{aligned}$$\n",
    "The math using this function is below, with lambda being our maximized value we found earlier, and k = 0. After evaluation, we find that the expected chance for a kid to have no mosquito bites is 1.9%\n",
    "\n",
    "Great to see that our proportions are equivalent to eachother\n",
    "\n",
    "**Code for part D**"
   ]
  },
  {
   "cell_type": "code",
   "execution_count": 10,
   "id": "49cb0138-e525-4a38-8951-244092898519",
   "metadata": {},
   "outputs": [
    {
     "data": {
      "text/plain": [
       "0.0190067145863875"
      ]
     },
     "execution_count": 10,
     "metadata": {},
     "output_type": "execute_result"
    }
   ],
   "source": [
    "#Simulation code\n",
    "n = 1000000\n",
    "big_sim = rng.poisson(max_lambda, size = n)\n",
    "number_of_0 = sum(big_sim==0)\n",
    "proportion = number_of_0/n\n",
    "proportion\n",
    "\n",
    "#math cade\n",
    "math_proportion = ((max_lambda**0) * (math.e **-max_lambda))/math.factorial(0)  #we could notice that max_lamda raised to 0 is 0, and math.factorial(0) is one\n",
    "math_proportion                                                                 #but this makes it clear what were doing"
   ]
  },
  {
   "cell_type": "markdown",
   "id": "97cd1565",
   "metadata": {},
   "source": [
    "# 2. Modeling proportions\n",
    "\n",
    "The [Beta distribution](https://en.wikipedia.org/wiki/Beta_distribution)\n",
    "can be used to model *proportions:*\n",
    "it gives random numbers between 0 and 1,\n",
    "and has two parameters: $\\alpha$ and $\\beta$.\n",
    "If $X \\sim \\text{Beta}(\\alpha, \\beta)$ then\n",
    "$$ \\begin{aligned}\n",
    "    \\mathbb{E}[X] &= \\frac{\\alpha}{\\alpha + \\beta} \\\\\n",
    "    \\mathbb{E}[X^2] &= \\frac{\\alpha (\\alpha-1)}{(\\alpha + \\beta)(\\alpha + \\beta - 1)} ,\n",
    "\\end{aligned}$$\n",
    "and\n",
    "$X$ has probability density\n",
    "$$ f_X(u) =\n",
    "\\frac{ u^{\\alpha - 1}(1 - u)^{\\beta - 1} }{ B(\\alpha, \\beta) }.\n",
    "$$\n",
    "This density can be computed (as usual) with `scipy.stats.beta.pdf`,\n",
    "or by hand; in the latter case, $B(\\alpha, \\beta)$ can be computed with `scipy.special.beta`.\n",
    "\n",
    "Suppose we have data from many different tracts of forest\n",
    "of what proportion of the trees have burned,\n",
    "and we'd like to fit a Beta distribution to the data.\n",
    "These proportions are:"
   ]
  },
  {
   "cell_type": "code",
   "execution_count": 11,
   "id": "a577b792",
   "metadata": {},
   "outputs": [],
   "source": [
    "burned = np.array([\n",
    "    0.04, 0.55, 0.91, 0.64, 0.83, 0.62, 0.98, 0.7, 0.36, 0.73, 0.74, 0.28, 0.35, 0.65, 0.85, 0.9, 0.94,\n",
    "    0.11, 0.74, 0.48, 0.62, 0.66, 0.51, 0.79, 0.61, 0.66, 0.75, 0.86, 0.52, 0.84, 0.43, 0.61, 0.99, 0.85, \n",
    "    0.97, 0.46, 0.75, 0.61, 0.95, 0.76, 0.78, 0.89, 0.79, 0.92, 0.83, 0.84, 0.61, 0.52, 0.82, 0.87, 0.9, \n",
    "    0.58, 0.67, 0.42, 0.9, 0.4, 0.95, 0.98, 0.56, 0.94, 0.5, 0.84, 0.58, 0.91, 0.21, 0.54, 0.9, 0.64, 0.48,\n",
    "    0.82, 0.77, 0.63, 0.84, 0.97, 0.77, 0.96, 0.83, 0.9, 0.96, 0.52, 0.24, 0.92, 0.11, 0.96, 0.85, 0.62, \n",
    "    0.96, 0.67, 0.87, 0.78, 0.85, 0.88, 0.88, 0.68, 0.13, 0.9, 0.94, 0.49, 0.74, 0.99\n",
    "])"
   ]
  },
  {
   "cell_type": "markdown",
   "id": "c422d01a",
   "metadata": {},
   "source": [
    "*(a)* Make a plot of the likelihood surface for this data\n",
    "    over the range $0.5 \\le \\alpha, \\beta \\le 4$.\n",
    "\n",
    "*(b)* Estimate the values of $\\alpha$ and $\\beta$ that best fit the data\n",
    "    by maximum likelihood.\n",
    "    \n",
    "*(c)* Using this model, in what proportion of forest tracts\n",
    "    do you estimate less than 20% of the trees have burned?"
   ]
  },
  {
   "cell_type": "markdown",
   "id": "3823a82f-4930-4836-a6ea-1061c0fb567e",
   "metadata": {},
   "source": [
    "**Response to Part A and B**\n",
    "\n",
    "To make a plot of the likelihood surface for this data over the range I'm pulling code straight from the lab. We're going to make a contour graph, of simulated logpdfs values. We're also going to pull the code from the lab to get the maximum likelihood value of alpha and beta. In the contour graph were going to put a star where the maximum likelihood estimates are. P.S After doing some math (in the code below), the maximum likelihood values for alpha is 2.28 and beta = .99\n",
    "\n",
    "**Code for Part A and B**"
   ]
  },
  {
   "cell_type": "code",
   "execution_count": 12,
   "id": "2532e869-84e3-4afb-800a-607c19f0c0b9",
   "metadata": {},
   "outputs": [],
   "source": [
    "from scipy.stats import beta\n",
    "\n",
    "def beta_log(alpha, beta_data):\n",
    "        lpdfs = beta.logpdf(burned, a=alpha, b=beta_data)\n",
    "        return np.sum(lpdfs)\n",
    "    \n",
    "def beta_mle(): #code taken from the slides and from lab\n",
    "    def logL(alpha, beta_data):\n",
    "        lpdfs = beta.logpdf(burned, a=alpha, b=beta_data)\n",
    "        return np.sum(lpdfs)\n",
    "    \n",
    "    max_L = minimize(lambda x: -logL(*x), x0=(5,1))\n",
    "    mle_alpha, mle_beta = max_L['x']\n",
    "    return mle_alpha, mle_beta"
   ]
  },
  {
   "cell_type": "code",
   "execution_count": 13,
   "id": "59340fd9-c9c2-43f8-b9c7-dd0104cf7978",
   "metadata": {},
   "outputs": [
    {
     "data": {
      "image/png": "[encoded data removed]",
      "text/plain": [
       "<Figure size 640x480 with 2 Axes>"
      ]
     },
     "metadata": {},
     "output_type": "display_data"
    }
   ],
   "source": [
    "alpha_values = np.linspace(0.5, 4, 100)\n",
    "beta_values = np.linspace(0.5, 4, 100)\n",
    "Lmap =np.array([[beta_log(alpha, beta) for alpha in alpha_values] for beta in beta_values])\n",
    "\n",
    "fig, ax = plt.subplots()\n",
    "im = ax.contourf(alpha_values, beta_values, Lmap)\n",
    "mle_alpha = beta_mle()[0]\n",
    "mle_beta = beta_mle()[1]\n",
    "ax.scatter(mle_alpha,mle_beta)\n",
    "cbar = ax.figure.colorbar(im, ax=ax)\n",
    "\n",
    "ax.set_xlabel(\"Alpha\"); ax.set_ylabel(\"Beta\")\n",
    "ax.set_title(f\"maximum likelihood at alpha = {mle_alpha:.2f}, beta = {mle_beta:.2f}\");\n"
   ]
  },
  {
   "cell_type": "markdown",
   "id": "1baf8349-8077-4730-a8cb-c0ae4abb078e",
   "metadata": {},
   "source": [
    "**Response to part C**\n",
    "To do this we're just going to use the cdf function. After using the function we would estimate that about 2.5% of forest tracts have less than 20% of their trees burned. \n",
    "\n",
    "**Code for part C**"
   ]
  },
  {
   "cell_type": "code",
   "execution_count": 14,
   "id": "6c5a52d8-41d7-4b18-a4b9-5ba7ae6b9960",
   "metadata": {},
   "outputs": [
    {
     "data": {
      "text/plain": [
       "0.02518616595182752"
      ]
     },
     "execution_count": 14,
     "metadata": {},
     "output_type": "execute_result"
    }
   ],
   "source": [
    "proportion = beta.cdf(.2, mle_alpha,mle_beta)\n",
    "proportion"
   ]
  },
  {
   "cell_type": "markdown",
   "id": "995bf451",
   "metadata": {},
   "source": [
    "# 3. Statistics statistics\n",
    "\n",
    "We have given 25 statistics students\n",
    "a standardized test on statistics concepts\n",
    "both before and after taking a statistics class.\n",
    "Across the class, the mean improvement was 32 points (out of 100),\n",
    "with an SD of 30 points.\n",
    "Assuming that the $t$ test is appropriate,\n",
    "what can we conclude from this study?\n",
    "Please interpret the results, including degree of uncertainty."
   ]
  },
  {
   "cell_type": "markdown",
   "id": "d765c05d-4757-4480-9666-fbf8f7ac7dc3",
   "metadata": {},
   "source": [
    "**Response**\n",
    "\n",
    "Given these pieces of information, we can calculate the test statistic by dividing the sample mean by (standard deviation of sample/ square root of n).\n",
    "This value is 5.3 (see following code below). With a test statistic of 5.3, and 24 degrees of freedom, we find a p_value of .000000895. To interpret this in human words, given our null hypothesis of no improvement, there is a .0000895% chance that we would find a mean improvement of 32 by chance alone. This means that it's extremely likely that this statistics class was successful at increasing our statistics test scores. \n",
    "\n",
    "**Code for this Part Below**"
   ]
  },
  {
   "cell_type": "code",
   "execution_count": 15,
   "id": "f544e5a9-9c16-4f68-9df9-bbcbbc882961",
   "metadata": {},
   "outputs": [
    {
     "data": {
      "text/plain": [
       "5.225578117937446"
      ]
     },
     "execution_count": 15,
     "metadata": {},
     "output_type": "execute_result"
    }
   ],
   "source": [
    "n = 25-1\n",
    "standard_dev_sample = 30\n",
    "mean_improvement = 32\n",
    "test_statistic = mean_improvement/(standard_dev_sample/math.sqrt(n))\n",
    "test_statistic"
   ]
  },
  {
   "cell_type": "code",
   "execution_count": 16,
   "id": "796d2ab3-a91b-4ba4-b0b0-744ad2144619",
   "metadata": {},
   "outputs": [],
   "source": [
    "from scipy.stats import t"
   ]
  },
  {
   "cell_type": "code",
   "execution_count": 17,
   "id": "ab203d87-ae09-4b6b-9e8a-41a5c851c907",
   "metadata": {},
   "outputs": [
    {
     "data": {
      "text/plain": [
       "1.3351781828374598e-05"
      ]
     },
     "execution_count": 17,
     "metadata": {},
     "output_type": "execute_result"
    }
   ],
   "source": [
    "p_value = 1-t.cdf(test_statistic, n-1)\n",
    "p_value"
   ]
  }
 ],
 "metadata": {
  "celltoolbar": "Tags",
  "kernelspec": {
   "display_name": "Python 3 (ipykernel)",
   "language": "python",
   "name": "python3"
  },
  "language_info": {
   "codemirror_mode": {
    "name": "ipython",
    "version": 3
   },
   "file_extension": ".py",
   "mimetype": "text/x-python",
   "name": "python",
   "nbconvert_exporter": "python",
   "pygments_lexer": "ipython3",
   "version": "3.11.1"
  }
 },
 "nbformat": 4,
 "nbformat_minor": 5
}

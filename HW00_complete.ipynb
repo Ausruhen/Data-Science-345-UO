{
 "cells": [
  {
   "cell_type": "markdown",
   "id": "59742dcb",
   "metadata": {},
   "source": [
    "# Homework 0: getting up to speed\n",
    "\n",
    "*Instructions:*\n",
    "Please answer the following questions and submit your work\n",
    "by editing this jupyter notebook and submitting it on Canvas.\n",
    "Questions may involve math, programming, or neither,\n",
    "but you should make sure to *explain your work*:\n",
    "i.e., you should usually have a cell with at least a few sentences\n",
    "explaining what you are doing."
   ]
  },
  {
   "cell_type": "markdown",
   "id": "ab3dcfd7",
   "metadata": {},
   "source": [
    "## 1. Goat, please\n",
    "\n",
    "I have two chickens and one goat, and am going to give one to you,\n",
    "but you have to pick *randomly*.\n",
    "We have three barn stalls that you can't see in, and I put one animal in each stall,\n",
    "in a randomly chosen order.\n",
    "Let us suppose that you would like to get a chicken (the goat won't fit in your apartment).\n",
    "You then pick a stall.\n",
    "Then, I open one of the *other* stalls that has a chicken in it (I can always do this),\n",
    "and remove that chicken.\n",
    "Now, you have the choice of either taking what's in the stall you originally picked,\n",
    "or taking what's in the *other* (as yet unopened) stall.\n",
    "\n",
    "**(a)** First, decide whether you'd like to switch stalls in the last step or not.\n",
    "    Then, write python code to simulate from this procedure.\n",
    "    The code should explicitly represent what happens (e.g., which animal is in which stall),\n",
    "    and produce either `\"chicken\"` or `\"goat\"`, corresponding to which animal you get in the end.\n",
    "    \n",
    "**(b)** Use your code to simulate at least 10,000 times.\n",
    "    Report how often you get a chicken."
   ]
  },
  {
   "cell_type": "markdown",
   "id": "edc12b4f",
   "metadata": {},
   "source": [
    "*Reminder:* To get random values you probably want to use these methods:"
   ]
  },
  {
   "cell_type": "code",
   "execution_count": 1,
   "id": "192c7122",
   "metadata": {},
   "outputs": [
    {
     "name": "stdout",
     "output_type": "stream",
     "text": [
      "Here is a random number between 0 and 1: [0.56279629] and a random integer in (0, 1, 2): 1\n"
     ]
    }
   ],
   "source": [
    "import numpy as np\n",
    "rng = np.random.default_rng()\n",
    "u = rng.uniform(size=1)\n",
    "k = rng.choice([0, 1, 2])\n",
    "print(f\"Here is a random number between 0 and 1: {u} and a random integer in (0, 1, 2): {k}\")"
   ]
  },
  {
   "cell_type": "code",
   "execution_count": 2,
   "id": "5db1bd59-00b5-40e5-844c-d57dfce95fc6",
   "metadata": {},
   "outputs": [
    {
     "data": {
      "text/plain": [
       "'chicken'"
      ]
     },
     "execution_count": 2,
     "metadata": {},
     "output_type": "execute_result"
    }
   ],
   "source": [
    "stalls = [\"chicken\", \"goat\", \"chicken\"]\n",
    "rng.choice(stalls)"
   ]
  },
  {
   "cell_type": "markdown",
   "id": "a8019221-8f8e-4e9e-bf87-6941309f3d99",
   "metadata": {},
   "source": [
    "\n",
    "**Response to part A** \n",
    "\n",
    "The answer here is to not swap stalls. This is because your original decision remained unaffected by showing that one of the stalls had a chicken\n",
    "inside of it. Your original decision has a probility of 67ish percent to produce a chicken, while swapping stall doors always inverts the probability. This sort of decision making is best illustrated and easier to see if you have 999,999 chickens and 1 goat, with the same scenario\n",
    "(of removing all other doors with the chickens). In this example it's much clearer to see that you were much more likely to originally have picked a chicken (999999/100000)\n",
    "stall that held a chicken, and swapping it (if you wanted a chicken) would be a mistake. In other words, by introducing new information, the probability of your original decision did not change\n"
   ]
  },
  {
   "cell_type": "markdown",
   "id": "1b412ccb-a8c7-4fd5-963c-f7c13fe4d90c",
   "metadata": {},
   "source": [
    "**Code For Part A**"
   ]
  },
  {
   "cell_type": "code",
   "execution_count": 3,
   "id": "d588ec82-ba9f-421a-8a7d-a8ab19380c46",
   "metadata": {},
   "outputs": [],
   "source": [
    "def random_stall_choice_no_swap():\n",
    "    \"Produces chicken or goat based on the scenario above without swapping\"\n",
    "    stalls = [\"chicken\", \"goat\", \"chicken\"]\n",
    "    return rng.choice(stalls)\n",
    "\n",
    "def random_stall_choice_with_swap():\n",
    "    \"Produces chicken or goat based on the scenario above with swapping\"\n",
    "    stalls = [\"chicken\", \"goat\", \"chicken\"]        \n",
    "    original_decision = rng.choice(stalls)\n",
    "\n",
    "    #Removes a stall gauranteed to be a chicken turns your options to be between your original decision, and the remaining option, \n",
    "    #so we can swap what our original decision was. \n",
    "    # which means we can simplify the code by swapping chicken and goat\n",
    "    if original_decision == \"chicken\":\n",
    "        return \"goat\"\n",
    "    else:\n",
    "        return \"chicken\"\n",
    "#random_stall_choice_no_swap()\n"
   ]
  },
  {
   "cell_type": "markdown",
   "id": "30a83366-719a-4df3-bb1f-532ddac89104",
   "metadata": {},
   "source": [
    "**Code For Part B**"
   ]
  },
  {
   "cell_type": "code",
   "execution_count": 4,
   "id": "9ff1a71a-059b-4df8-9711-4f9092df897a",
   "metadata": {},
   "outputs": [
    {
     "data": {
      "text/plain": [
       "3293"
      ]
     },
     "execution_count": 4,
     "metadata": {},
     "output_type": "execute_result"
    }
   ],
   "source": [
    "def simulation(stall_decision):\n",
    "    results = np.empty(0)\n",
    "    for i in range(0,10000):\n",
    "        results = np.append(results, stall_decision())\n",
    "        \n",
    "    chicken_counter = 0\n",
    "    for i in range(0,10000):\n",
    "        if results[i] == \"chicken\":\n",
    "            chicken_counter += 1\n",
    "            \n",
    "    return chicken_counter\n",
    "    #goat_counter = 10000-simulation_of_scenario()   #to see goats if you want to \n",
    "\n",
    "\n",
    "#simulated_result_no_swap = simulation(random_stall_choice_no_swap)\n",
    "simulated_result_swapping = simulation(random_stall_choice_with_swap)\n",
    "#simulated_result_no_swap\n",
    "simulated_result_swapping\n"
   ]
  },
  {
   "cell_type": "markdown",
   "id": "be930f11-411a-48ed-a82a-784dffd7b9b9",
   "metadata": {},
   "source": [
    "**Response to Part B**\n",
    "\n",
    "After running the simulation tab multiple times with each stall decision, it's clear to see that without swapping stalls the probability is around 66%\n",
    "~~ with about 6600 chickens for each simulation ~~. \n",
    "While when you swap the stalls the probability is around 33%, with about 3300 chickens for each simulation. "
   ]
  }
 ],
 "metadata": {
  "kernelspec": {
   "display_name": "Python 3 (ipykernel)",
   "language": "python",
   "name": "python3"
  },
  "language_info": {
   "codemirror_mode": {
    "name": "ipython",
    "version": 3
   },
   "file_extension": ".py",
   "mimetype": "text/x-python",
   "name": "python",
   "nbconvert_exporter": "python",
   "pygments_lexer": "ipython3",
   "version": "3.11.6"
  }
 },
 "nbformat": 4,
 "nbformat_minor": 5
}
